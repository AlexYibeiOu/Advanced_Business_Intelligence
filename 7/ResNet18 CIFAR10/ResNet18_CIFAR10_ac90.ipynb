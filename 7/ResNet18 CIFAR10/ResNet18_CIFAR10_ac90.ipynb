{
  "nbformat": 4,
  "nbformat_minor": 0,
  "metadata": {
    "colab": {
      "name": "ResNet18_CIFAR10_ac90.ipynb",
      "provenance": []
    },
    "kernelspec": {
      "name": "python3",
      "display_name": "Python 3"
    },
    "accelerator": "GPU"
  },
  "cells": [
    {
      "cell_type": "code",
      "metadata": {
        "id": "cwzW95dgoqa_",
        "colab_type": "code",
        "colab": {}
      },
      "source": [
        "import torch\n",
        "import torch.nn as nn\n",
        "import torchvision\n",
        "import torch.optim as optim\n",
        "import torch.optim.lr_scheduler as lr_scheduler\n",
        "from torch.utils.data import DataLoader\n",
        "from torch.utils.data import sampler\n",
        "import torchvision.datasets as dset\n",
        "import torchvision.transforms as T\n",
        "import torch.nn.functional as F\n",
        "import copy\n",
        "import time"
      ],
      "execution_count": 22,
      "outputs": []
    },
    {
      "cell_type": "code",
      "metadata": {
        "id": "uLJkA_Jkova0",
        "colab_type": "code",
        "colab": {}
      },
      "source": [
        "class ResNet(nn.Module):\n",
        "    def __init__(self, ResidualBlock, num_classes=10):\n",
        "        super(ResNet, self).__init__()\n",
        "        self.inchannel = 64\n",
        "        self.conv1 = nn.Sequential(\n",
        "            nn.Conv2d(3, 64, kernel_size=3, stride=1, padding=1, bias=False),\n",
        "            nn.BatchNorm2d(64),\n",
        "            nn.ReLU(),\n",
        "        )\n",
        "        self.layer1 = self.make_layer(ResidualBlock, 64,  2, stride=1)\n",
        "        self.layer2 = self.make_layer(ResidualBlock, 128, 2, stride=2)\n",
        "        self.layer3 = self.make_layer(ResidualBlock, 256, 2, stride=2)\n",
        "        self.layer4 = self.make_layer(ResidualBlock, 512, 2, stride=2)\n",
        "        self.fc = nn.Linear(512, num_classes)\n",
        "\n",
        "    def make_layer(self, block, channels, num_blocks, stride):\n",
        "        strides = [stride] + [1] * (num_blocks - 1)   #strides=[1,1]\n",
        "        layers = []\n",
        "        for stride in strides:\n",
        "            layers.append(block(self.inchannel, channels, stride))\n",
        "            self.inchannel = channels\n",
        "        return nn.Sequential(*layers)\n",
        "\n",
        "    def forward(self, x):\n",
        "        out = self.conv1(x)\n",
        "        out = self.layer1(out)\n",
        "        out = self.layer2(out)\n",
        "        out = self.layer3(out)\n",
        "        out = self.layer4(out)\n",
        "        out = F.avg_pool2d(out, 4)\n",
        "        out = out.view(out.size(0), -1)\n",
        "        out = self.fc(out)\n",
        "        return out"
      ],
      "execution_count": 14,
      "outputs": []
    },
    {
      "cell_type": "code",
      "metadata": {
        "id": "rdyg2lhVoy-a",
        "colab_type": "code",
        "colab": {}
      },
      "source": [
        "class ResidualBlock(nn.Module):\n",
        "    def __init__(self, inchannel, outchannel, stride=1):\n",
        "        super(ResidualBlock, self).__init__()\n",
        "        self.left = nn.Sequential(\n",
        "            nn.Conv2d(inchannel, outchannel, kernel_size=3, stride=stride, padding=1, bias=False),\n",
        "            nn.BatchNorm2d(outchannel),\n",
        "            nn.ReLU(inplace=True),\n",
        "            nn.Conv2d(outchannel, outchannel, kernel_size=3, stride=1, padding=1, bias=False),\n",
        "            nn.BatchNorm2d(outchannel)\n",
        "        )\n",
        "        self.shortcut = nn.Sequential()\n",
        "        if stride != 1 or inchannel != outchannel:\n",
        "            self.shortcut = nn.Sequential(\n",
        "                nn.Conv2d(inchannel, outchannel, kernel_size=1, stride=stride, bias=False),\n",
        "                nn.BatchNorm2d(outchannel)\n",
        "            )\n",
        "\n",
        "    def forward(self, x):\n",
        "        out = self.left(x)\n",
        "        out += self.shortcut(x)\n",
        "        out = F.relu(out)\n",
        "        return out"
      ],
      "execution_count": 15,
      "outputs": []
    },
    {
      "cell_type": "code",
      "metadata": {
        "id": "3KhJ1Cfoo1a6",
        "colab_type": "code",
        "colab": {}
      },
      "source": [
        "def ResNet18():\n",
        "    return ResNet(ResidualBlock)\n",
        "\n",
        "# 从训练集的50000个样本中，取49000个作为训练集，剩余1000个作为验证集\n",
        "NUM_TRAIN = 49000\n",
        "\n",
        "# 数据预处理，减去cifar-10数据均值\n",
        "transform_normal = T.Compose([\n",
        "    T.ToTensor(),\n",
        "    T.Normalize((0.4914, 0.4822, 0.4465),(0.2023, 0.1994, 0.2010))\n",
        "])\n",
        "# 数据增强\n",
        "transform_aug = T.Compose([\n",
        "    T.RandomCrop(32, padding=4),\n",
        "    T.RandomHorizontalFlip(),\n",
        "    T.ToTensor(),\n",
        "    T.Normalize((0.485, 0.456, 0.406), (0.229, 0.224, 0.225))\n",
        "])"
      ],
      "execution_count": 16,
      "outputs": []
    },
    {
      "cell_type": "code",
      "metadata": {
        "id": "w9J05URCo4xb",
        "colab_type": "code",
        "colab": {
          "base_uri": "https://localhost:8080/",
          "height": 34
        },
        "outputId": "ecd7738f-533f-436d-bcfd-380a9f8eb2a1"
      },
      "source": [
        "# GPU\n",
        "USE_GPU = True\n",
        "dtype = torch.float32\n",
        "print_every = 100\n",
        "\n",
        "if USE_GPU and torch.cuda.is_available():\n",
        "    device = torch.device('cuda')\n",
        "else:\n",
        "    device = torch.device('cpu')\n",
        "\n",
        "print('using device:', device)"
      ],
      "execution_count": 17,
      "outputs": [
        {
          "output_type": "stream",
          "text": [
            "using device: cuda\n"
          ],
          "name": "stdout"
        }
      ]
    },
    {
      "cell_type": "code",
      "metadata": {
        "id": "5LmqQwVTYoY2",
        "colab_type": "code",
        "colab": {}
      },
      "source": [
        "# 验证模型在验证集或者测试集上的准确率\n",
        "def check_accuracy(loader, model):\n",
        "    if loader.dataset.train:\n",
        "        header = 'Accuracy on validation set:'\n",
        "    else:\n",
        "        header = 'Accuracy on test set:'\n",
        "    num_correct = 0\n",
        "    num_samples = 0\n",
        "    model.eval()   # set model to evaluation mode\n",
        "    with torch.no_grad():\n",
        "        for x,y in loader:\n",
        "            x = x.to(device=device, dtype=dtype)\n",
        "            y = y.to(device=device, dtype=torch.long)\n",
        "            scores = model(x)\n",
        "            _,preds = scores.max(1)\n",
        "            num_correct += (preds==y).sum()\n",
        "            num_samples += preds.size(0)\n",
        "        acc = float(num_correct) / num_samples\n",
        "        print('---------%s, Got %d / %d correct (%.2f)' % (header, num_correct, num_samples, 100 *acc ))\n",
        "        return acc"
      ],
      "execution_count": 18,
      "outputs": []
    },
    {
      "cell_type": "code",
      "metadata": {
        "id": "IRbqbLeCo8Ww",
        "colab_type": "code",
        "colab": {}
      },
      "source": [
        "def train_model(model, optimizer, epochs=1, scheduler=None):\n",
        "    '''\n",
        "    Parameters:\n",
        "    - model: A Pytorch Module giving the model to train.\n",
        "    - optimizer: An optimizer object we will use to train the model\n",
        "    - epochs: A Python integer giving the number of epochs to train\n",
        "    Returns: best model\n",
        "    '''\n",
        "    best_model_wts = None\n",
        "    best_acc = 0.0\n",
        "    model = model.to(device=device) # move the model parameters to CPU/GPU\n",
        "    for e in range(epochs):\n",
        "        if scheduler:\n",
        "            scheduler.step()\n",
        "        start_time = time.time()\n",
        "        for t,(x,y) in enumerate(loader_train):\n",
        "            model.train()   # set model to training mode\n",
        "            x = x.to(device, dtype=dtype)\n",
        "            y = y.to(device, dtype=torch.long)\n",
        "\n",
        "            scores = model(x)\n",
        "            loss = F.cross_entropy(scores, y)\n",
        "\n",
        "            optimizer.zero_grad()\n",
        "            loss.backward()\n",
        "            optimizer.step()\n",
        "\n",
        "        print('Epoch %d, loss=%.4f, time=%.4f' % (e, loss.item(), time.time()-start_time))\n",
        "        acc = check_accuracy(loader_val, model)\n",
        "        if acc > best_acc:\n",
        "            best_model_wts = copy.deepcopy(model.state_dict())\n",
        "            best_acc = acc\n",
        "    print('best_acc:',best_acc)\n",
        "    model.load_state_dict(best_model_wts)\n",
        "    return model"
      ],
      "execution_count": 24,
      "outputs": []
    },
    {
      "cell_type": "code",
      "metadata": {
        "id": "ZuuWh7Y4pCYC",
        "colab_type": "code",
        "colab": {
          "base_uri": "https://localhost:8080/",
          "height": 68
        },
        "outputId": "d0d102a4-dc5c-4d59-d8ea-52c21b916bf8"
      },
      "source": [
        "# Load Data\n",
        "\n",
        "# Train Data\n",
        "cifar10_train = dset.CIFAR10('./data', train=True, download=True, transform=transform_aug)\n",
        "loader_train = DataLoader(cifar10_train, batch_size=64, sampler=sampler.SubsetRandomSampler(range(NUM_TRAIN)))\n",
        "\n",
        "# Validation Data\n",
        "cifar10_val = dset.CIFAR10('./data', train=True, download=True, transform=transform_normal)\n",
        "loader_val = DataLoader(cifar10_val, batch_size=64, sampler=sampler.SubsetRandomSampler(range(NUM_TRAIN, 50000)))\n",
        "\n",
        "# Test Data\n",
        "cifar10_test = dset.CIFAR10('./data', train=False, download=True, transform=transform_normal)\n",
        "loader_test = DataLoader(cifar10_test, batch_size=64)"
      ],
      "execution_count": 25,
      "outputs": [
        {
          "output_type": "stream",
          "text": [
            "Files already downloaded and verified\n",
            "Files already downloaded and verified\n",
            "Files already downloaded and verified\n"
          ],
          "name": "stdout"
        }
      ]
    },
    {
      "cell_type": "code",
      "metadata": {
        "id": "lMgCxKc8pDUP",
        "colab_type": "code",
        "colab": {
          "base_uri": "https://localhost:8080/",
          "height": 802
        },
        "outputId": "1b6da49a-1d86-423d-822d-5fa0bbbb44f3"
      },
      "source": [
        "# Model\n",
        "learning_rate = 1e-2\n",
        "resnet = ResNet18()\n",
        "#resnet = torchvision.models.resnet18(pretrained=False)\n",
        "optimizer_resnet = optim.SGD(resnet.parameters(), lr=learning_rate, momentum=0.9, nesterov=True)\n",
        "scheduler = lr_scheduler.StepLR(optimizer_resnet, step_size=15,gamma=0.1)\n",
        "\n",
        "\n",
        "# Train Model\n",
        "best_resnet = train_model(resnet, optimizer_resnet,20, scheduler)\n",
        "\n",
        "# Test Accuracy\n",
        "check_accuracy(loader_test, best_resnet)"
      ],
      "execution_count": 26,
      "outputs": [
        {
          "output_type": "stream",
          "text": [
            "/usr/local/lib/python3.6/dist-packages/torch/optim/lr_scheduler.py:123: UserWarning: Detected call of `lr_scheduler.step()` before `optimizer.step()`. In PyTorch 1.1.0 and later, you should call them in the opposite order: `optimizer.step()` before `lr_scheduler.step()`.  Failure to do this will result in PyTorch skipping the first value of the learning rate schedule. See more details at https://pytorch.org/docs/stable/optim.html#how-to-adjust-learning-rate\n",
            "  \"https://pytorch.org/docs/stable/optim.html#how-to-adjust-learning-rate\", UserWarning)\n"
          ],
          "name": "stderr"
        },
        {
          "output_type": "stream",
          "text": [
            "Epoch 0, loss=1.0462, time=26.4973\n",
            "---------Accuracy on validation set:, Got 633 / 1000 correct (63.30)\n",
            "Epoch 1, loss=0.7599, time=26.5409\n",
            "---------Accuracy on validation set:, Got 719 / 1000 correct (71.90)\n",
            "Epoch 2, loss=0.9111, time=26.5255\n",
            "---------Accuracy on validation set:, Got 779 / 1000 correct (77.90)\n",
            "Epoch 3, loss=0.5393, time=26.5003\n",
            "---------Accuracy on validation set:, Got 801 / 1000 correct (80.10)\n",
            "Epoch 4, loss=0.6241, time=26.4965\n",
            "---------Accuracy on validation set:, Got 825 / 1000 correct (82.50)\n",
            "Epoch 5, loss=0.4295, time=26.5045\n",
            "---------Accuracy on validation set:, Got 853 / 1000 correct (85.30)\n",
            "Epoch 6, loss=0.3357, time=26.4991\n",
            "---------Accuracy on validation set:, Got 845 / 1000 correct (84.50)\n",
            "Epoch 7, loss=0.2391, time=26.5529\n",
            "---------Accuracy on validation set:, Got 826 / 1000 correct (82.60)\n",
            "Epoch 8, loss=0.2538, time=26.4884\n",
            "---------Accuracy on validation set:, Got 865 / 1000 correct (86.50)\n",
            "Epoch 9, loss=0.5752, time=26.5048\n",
            "---------Accuracy on validation set:, Got 857 / 1000 correct (85.70)\n",
            "Epoch 10, loss=0.1506, time=26.4730\n",
            "---------Accuracy on validation set:, Got 857 / 1000 correct (85.70)\n",
            "Epoch 11, loss=0.0895, time=26.4807\n",
            "---------Accuracy on validation set:, Got 871 / 1000 correct (87.10)\n",
            "Epoch 12, loss=0.1278, time=26.5068\n",
            "---------Accuracy on validation set:, Got 872 / 1000 correct (87.20)\n",
            "Epoch 13, loss=0.4860, time=26.5620\n",
            "---------Accuracy on validation set:, Got 894 / 1000 correct (89.40)\n",
            "Epoch 14, loss=0.0566, time=26.4805\n",
            "---------Accuracy on validation set:, Got 918 / 1000 correct (91.80)\n",
            "Epoch 15, loss=0.0239, time=26.4781\n",
            "---------Accuracy on validation set:, Got 930 / 1000 correct (93.00)\n",
            "Epoch 16, loss=0.0459, time=26.4952\n",
            "---------Accuracy on validation set:, Got 928 / 1000 correct (92.80)\n",
            "Epoch 17, loss=0.1817, time=26.4985\n",
            "---------Accuracy on validation set:, Got 925 / 1000 correct (92.50)\n",
            "Epoch 18, loss=0.0749, time=26.4764\n",
            "---------Accuracy on validation set:, Got 924 / 1000 correct (92.40)\n",
            "Epoch 19, loss=0.0835, time=26.5102\n",
            "---------Accuracy on validation set:, Got 919 / 1000 correct (91.90)\n",
            "best_acc: 0.93\n",
            "---------Accuracy on test set:, Got 9133 / 10000 correct (91.33)\n"
          ],
          "name": "stdout"
        },
        {
          "output_type": "execute_result",
          "data": {
            "text/plain": [
              "0.9133"
            ]
          },
          "metadata": {
            "tags": []
          },
          "execution_count": 26
        }
      ]
    },
    {
      "cell_type": "code",
      "metadata": {
        "id": "wZvY7EuOc1xy",
        "colab_type": "code",
        "colab": {
          "base_uri": "https://localhost:8080/",
          "height": 122
        },
        "outputId": "ed5ee97a-350a-4c99-8560-cdb2f42725f7"
      },
      "source": [
        "from google.colab import drive\n",
        "drive.mount('/content/drive')"
      ],
      "execution_count": 28,
      "outputs": [
        {
          "output_type": "stream",
          "text": [
            "Go to this URL in a browser: https://accounts.google.com/o/oauth2/auth?client_id=947318989803-6bn6qk8qdgf4n4g3pfee6491hc0brc4i.apps.googleusercontent.com&redirect_uri=urn%3aietf%3awg%3aoauth%3a2.0%3aoob&scope=email%20https%3a%2f%2fwww.googleapis.com%2fauth%2fdocs.test%20https%3a%2f%2fwww.googleapis.com%2fauth%2fdrive%20https%3a%2f%2fwww.googleapis.com%2fauth%2fdrive.photos.readonly%20https%3a%2f%2fwww.googleapis.com%2fauth%2fpeopleapi.readonly&response_type=code\n",
            "\n",
            "Enter your authorization code:\n",
            "··········\n",
            "Mounted at /content/drive\n"
          ],
          "name": "stdout"
        }
      ]
    },
    {
      "cell_type": "code",
      "metadata": {
        "id": "VRTsOoNCXYWO",
        "colab_type": "code",
        "colab": {}
      },
      "source": [
        "PATH_FILE = '/content/drive/My Drive/Models/ResNet18_CIFAR10_ac90'\n",
        "torch.save(best_resnet.state_dict(), PATH_FILE)"
      ],
      "execution_count": 29,
      "outputs": []
    }
  ]
}